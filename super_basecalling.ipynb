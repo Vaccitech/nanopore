{
 "cells": [
  {
   "cell_type": "markdown",
   "metadata": {},
   "source": [
    "# Super accuracy basecalling\n",
    "\n",
    "MinKnow is not currently able to run the super accurate basecalling, instead we can manually run guppy with the desired settings.\n",
    "- Specify folder with .fast5 files (pass and fail)\n",
    "- Specify folder to save basecalling\n",
    "- Specify config file (pore type, speed, accuracy)"
   ]
  },
  {
   "cell_type": "code",
   "execution_count": null,
   "metadata": {},
   "outputs": [],
   "source": [
    "import os\n",
    "from epi2melabs.notebook import InputForm, InputSpec\n",
    "import ipywidgets as widgets\n",
    "\n",
    "INPUT = None\n",
    "OUTPUT = None\n",
    "CONFIG = None\n",
    "\n",
    "def process_form(inputs):\n",
    "    global INPUT, OUTPUT, CONFIG\n",
    "    INPUT = inputs.form_input\n",
    "    OUTPUT = inputs.form_output\n",
    "    CONFIG = inputs.form_config\n",
    "\n",
    "inputs = InputForm(\n",
    "    InputSpec('form_input', 'pass AND fail .fast5', 'C:\\data'),\n",
    "    InputSpec('form_output', 'folder to save .fastq', 'C:\\data'),\n",
    "    InputSpec('form_config', 'Guppy config', 'dna_r9.4.1_450bps_sup.cfg'))\n",
    "inputs.add_process_button(process_form)\n",
    "inputs.display()"
   ]
  },
  {
   "cell_type": "markdown",
   "metadata": {},
   "source": [
    "\n",
    "### Does {INPUT} contain **pass <span style=\"color:red\">AND</span> fail** .fast5?\n"
   ]
  },
  {
   "cell_type": "code",
   "execution_count": null,
   "metadata": {},
   "outputs": [],
   "source": [
    "print(INPUT)\n",
    "print(OUTPUT)\n",
    "print(CONFIG)"
   ]
  },
  {
   "cell_type": "markdown",
   "metadata": {},
   "source": [
    "## Copy output command to command prompt"
   ]
  },
  {
   "cell_type": "code",
   "execution_count": null,
   "metadata": {},
   "outputs": [],
   "source": [
    "print(fr'\"C:\\Program Files\\OxfordNanopore\\ont-guppy\\bin\\guppy_basecaller\" --input_path {INPUT} -s {OUTPUT} -c {CONFIG} --device \"cuda:0\" --compress_fastq')"
   ]
  }
 ],
 "metadata": {
  "kernelspec": {
   "display_name": "Python 3.6.15 ('agb')",
   "language": "python",
   "name": "python3"
  },
  "language_info": {
   "name": "python",
   "version": "3.6.15"
  },
  "orig_nbformat": 4,
  "vscode": {
   "interpreter": {
    "hash": "bfe5889d5215a8c329edd6c9e4a879278cd0c369d03c62df44a796f3c283bb12"
   }
  }
 },
 "nbformat": 4,
 "nbformat_minor": 2
}
